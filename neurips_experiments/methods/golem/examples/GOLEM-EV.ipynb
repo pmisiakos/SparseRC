{
 "cells": [
  {
   "cell_type": "markdown",
   "metadata": {},
   "source": [
    "# Demo of GOLEM-EV\n",
    "\n",
    "Dataset configurations:\n",
    "- Ground truth: 20-node ER2 graph\n",
    "- Data: Linear DAG model with Gaussian-EV noise."
   ]
  },
  {
   "cell_type": "markdown",
   "metadata": {},
   "source": [
    "## Run GOLEM-EV\n",
    "\n",
    "Each run creates a directory based on current datetime to save the training outputs. In this case it is `output/2020-12-01_12-11-50-562`."
   ]
  },
  {
   "cell_type": "code",
   "execution_count": 6,
   "metadata": {},
   "outputs": [
    {
     "name": "stderr",
     "output_type": "stream",
     "text": [
      "2022-11-08 12:53:36,019 INFO - __main__ - Finished setting up the logger.\n",
      "2022-11-08 12:53:36,032 INFO - __main__ - Finished loading the dataset.\n",
      "2022-11-08 12:53:37,549 INFO - trainers.golem_trainer - Started training for 100000.0 iterations.\n",
      "2022-11-08 12:53:37,673 INFO - trainers.golem_trainer - [Iter 0] score 1.396E+02, likelihood 1.396E+02, h 0.000E+00\n",
      "2022-11-08 12:53:40,555 INFO - trainers.golem_trainer - [Iter 5000] score 1.004E+02, likelihood 9.908E+01, h 6.351E-03\n",
      "2022-11-08 12:53:43,442 INFO - trainers.golem_trainer - [Iter 10000] score 1.003E+02, likelihood 9.903E+01, h 6.023E-03\n",
      "2022-11-08 12:53:46,283 INFO - trainers.golem_trainer - [Iter 15000] score 1.003E+02, likelihood 9.903E+01, h 6.027E-03\n",
      "2022-11-08 12:53:49,092 INFO - trainers.golem_trainer - [Iter 20000] score 1.003E+02, likelihood 9.903E+01, h 6.054E-03\n",
      "2022-11-08 12:53:51,925 INFO - trainers.golem_trainer - [Iter 25000] score 1.003E+02, likelihood 9.903E+01, h 6.033E-03\n",
      "2022-11-08 12:53:54,719 INFO - trainers.golem_trainer - [Iter 30000] score 1.003E+02, likelihood 9.903E+01, h 6.039E-03\n",
      "2022-11-08 12:53:57,637 INFO - trainers.golem_trainer - [Iter 35000] score 1.003E+02, likelihood 9.903E+01, h 6.023E-03\n",
      "2022-11-08 12:54:00,652 INFO - trainers.golem_trainer - [Iter 40000] score 1.003E+02, likelihood 9.903E+01, h 6.037E-03\n",
      "2022-11-08 12:54:03,488 INFO - trainers.golem_trainer - [Iter 45000] score 1.003E+02, likelihood 9.903E+01, h 6.054E-03\n",
      "2022-11-08 12:54:06,392 INFO - trainers.golem_trainer - [Iter 50000] score 1.003E+02, likelihood 9.903E+01, h 6.029E-03\n",
      "2022-11-08 12:54:09,297 INFO - trainers.golem_trainer - [Iter 55000] score 1.003E+02, likelihood 9.903E+01, h 6.023E-03\n",
      "2022-11-08 12:54:12,391 INFO - trainers.golem_trainer - [Iter 60000] score 1.003E+02, likelihood 9.903E+01, h 6.035E-03\n",
      "2022-11-08 12:54:15,269 INFO - trainers.golem_trainer - [Iter 65000] score 1.003E+02, likelihood 9.903E+01, h 6.014E-03\n",
      "2022-11-08 12:54:18,193 INFO - trainers.golem_trainer - [Iter 70000] score 1.003E+02, likelihood 9.903E+01, h 6.018E-03\n",
      "2022-11-08 12:54:20,962 INFO - trainers.golem_trainer - [Iter 75000] score 1.003E+02, likelihood 9.903E+01, h 6.025E-03\n",
      "2022-11-08 12:54:23,822 INFO - trainers.golem_trainer - [Iter 80000] score 1.003E+02, likelihood 9.903E+01, h 6.042E-03\n",
      "2022-11-08 12:54:26,662 INFO - trainers.golem_trainer - [Iter 85000] score 1.003E+02, likelihood 9.903E+01, h 6.033E-03\n",
      "2022-11-08 12:54:29,462 INFO - trainers.golem_trainer - [Iter 90000] score 1.003E+02, likelihood 9.903E+01, h 6.027E-03\n",
      "2022-11-08 12:54:32,232 INFO - trainers.golem_trainer - [Iter 95000] score 1.003E+02, likelihood 9.903E+01, h 6.025E-03\n",
      "2022-11-08 12:54:35,171 INFO - trainers.golem_trainer - [Iter 100000] score 1.003E+02, likelihood 9.903E+01, h 6.027E-03\n",
      "2022-11-08 12:54:35,180 INFO - __main__ - Finished training the model.\n",
      "2022-11-08 12:54:35,181 INFO - __main__ - Finished post-processing the estimated graph.\n",
      "2022-11-08 12:54:35,427 INFO - __main__ - Finished plotting estimated graph (without post-processing).\n",
      "2022-11-08 12:54:35,428 INFO - __main__ - Results (after post-processing): {'fdr': 0.038461538461538464, 'tpr': 0.9803921568627451, 'fpr': 0.014388489208633094, 'shd': 2, 'pred_size': 52}.\n",
      "2022-11-08 12:54:35,430 INFO - __main__ - Finished saving training outputs at output/2022-11-08_12-53-36-018.\n"
     ]
    }
   ],
   "source": [
    "import tensorflow as tf\n",
    "\n",
    "!python ../src/main.py  --seed 1 \\\n",
    "                     --d 20 \\\n",
    "                     --graph_type ER \\\n",
    "                     --degree 4 \\\n",
    "                     --noise_type gaussian_ev \\\n",
    "                     --equal_variances \\\n",
    "                     --lambda_1 2e-2 \\\n",
    "                     --lambda_2 5.0 \\\n",
    "                     --checkpoint_iter 5000"
   ]
  },
  {
   "cell_type": "code",
   "execution_count": null,
   "metadata": {},
   "outputs": [],
   "source": []
  }
 ],
 "metadata": {
  "kernelspec": {
   "display_name": "Python 3.9.7 ('base')",
   "language": "python",
   "name": "python3"
  },
  "language_info": {
   "codemirror_mode": {
    "name": "ipython",
    "version": 3
   },
   "file_extension": ".py",
   "mimetype": "text/x-python",
   "name": "python",
   "nbconvert_exporter": "python",
   "pygments_lexer": "ipython3",
   "version": "3.9.7"
  },
  "vscode": {
   "interpreter": {
    "hash": "9c949539f9dbece4887fb509d4cb35ea32ed36bdabeb77661e55cc9e5861a968"
   }
  }
 },
 "nbformat": 4,
 "nbformat_minor": 4
}
